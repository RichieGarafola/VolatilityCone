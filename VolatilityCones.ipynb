{
 "cells": [
  {
   "cell_type": "code",
   "execution_count": 1,
   "id": "533cb370-2074-4524-8b5f-d2c23d215546",
   "metadata": {},
   "outputs": [],
   "source": [
    "# Import the require libraries\n",
    "%matplotlib inline\n",
    "\n",
    "import math\n",
    "import yfinance as yf\n",
    "import numpy as np\n",
    "import matplotlib.pyplot as plt"
   ]
  },
  {
   "cell_type": "code",
   "execution_count": 2,
   "id": "3281a2d0-6697-4df2-b68a-c13a50ac27e1",
   "metadata": {},
   "outputs": [],
   "source": [
    "# Setup the variables\n",
    "\n",
    "windows = [30, 60, 90, 120]\n",
    "quantiles = [0.25, 0.75]\n",
    "\n",
    "min_ = []\n",
    "max_ = []\n",
    "median = []\n",
    "top_q = []\n",
    "bottom_q = []\n",
    "realized = []"
   ]
  },
  {
   "cell_type": "code",
   "execution_count": 3,
   "id": "a8ea4df1-ae38-4a50-a6da-8f4f91ea03bd",
   "metadata": {},
   "outputs": [
    {
     "name": "stdin",
     "output_type": "stream",
     "text": [
      "Enter ticker of your choice jpm\n"
     ]
    },
    {
     "name": "stdout",
     "output_type": "stream",
     "text": [
      "[*********************100%***********************]  1 of 1 completed\n"
     ]
    }
   ],
   "source": [
    "# read in the data using the yahoo finance API\n",
    "name = (input(\"Enter ticker of your choice\")).upper()\n",
    "data = yf.download(name, start=\"2022-01-01\", end=\"2022-12-31\")"
   ]
  },
  {
   "cell_type": "code",
   "execution_count": 4,
   "id": "6bcf429d-898a-40fb-a433-9059d7b5f7b3",
   "metadata": {},
   "outputs": [],
   "source": [
    "# create a function to compute realized volatility \n",
    "\n",
    "def realized_vol(price_data, window=30):\n",
    "\n",
    "    log_return = (price_data[\"Close\"] / price_data[\"Close\"].shift(1)).apply(np.log)\n",
    "\n",
    "    return log_return.rolling(window=window, center=False).std() * math.sqrt(252)"
   ]
  },
  {
   "cell_type": "code",
   "execution_count": 5,
   "id": "aa209f79-a999-49ff-aeca-931c723dd91c",
   "metadata": {},
   "outputs": [],
   "source": [
    "# loop through each of the windows and compute realized volatility over each time frame. \n",
    "# estimator is a pandas DataFrame. That’s why it’s so easy so compute the min, max, median, and quantiles\n",
    "\n",
    "for window in windows:\n",
    "    \n",
    "    # get a dataframe with realized volatility\n",
    "    estimator = realized_vol(window=window, price_data=data)\n",
    "    \n",
    "    # append the summary stats to a list\n",
    "    min_.append(estimator.min())\n",
    "    max_.append(estimator.max())\n",
    "    median.append(estimator.median())\n",
    "    top_q.append(estimator.quantile(quantiles[1]))\n",
    "    bottom_q.append(estimator.quantile(quantiles[0]))\n",
    "    realized.append(estimator[-1])"
   ]
  },
  {
   "cell_type": "code",
   "execution_count": 6,
   "id": "bea04909-506b-49f2-bc8a-56f2ba4023c1",
   "metadata": {},
   "outputs": [
    {
     "data": {
      "image/png": "[encoded data removed]",
      "text/plain": [
       "<Figure size 432x288 with 1 Axes>"
      ]
     },
     "metadata": {
      "needs_background": "light"
     },
     "output_type": "display_data"
    }
   ],
   "source": [
    "# create the plots on the chart\n",
    "# The first 6 lines create the lines on the chart. The other two align the x-axis labels and format the legend.\n",
    "\n",
    "plt.plot(windows, min_, \"-o\", linewidth=1, label=\"Min\")\n",
    "plt.plot(windows, max_, \"-o\", linewidth=1, label=\"Max\")\n",
    "plt.plot(windows, median, \"-o\", linewidth=1, label=\"Median\")\n",
    "plt.plot(windows, top_q, \"-o\", linewidth=1, label=f\"{quantiles[1] * 100:.0f} Prctl\")\n",
    "plt.plot(windows, bottom_q, \"-o\", linewidth=1, label=f\"{quantiles[0] * 100:.0f} Prctl\")\n",
    "plt.plot(windows, realized, \"ro-.\", linewidth=1, label=\"Realized\")\n",
    "\n",
    "# set the x-axis labels\n",
    "plt.xticks(windows)\n",
    "\n",
    "# format the legend\n",
    "plt.legend(loc=\"upper center\", bbox_to_anchor=(0.5, -0.1), ncol=3)\n",
    "\n",
    "# display the title\n",
    "plt.title(f\"{name} Volatility Cone\")\n",
    "\n",
    "# Save the figure.\n",
    "# plt.savefig(\"./Images/volatilityCone.jpg\")\n",
    "\n",
    "# show the figure\n",
    "plt.show()\n"
   ]
  },
  {
   "cell_type": "markdown",
   "id": "23109462-b635-4116-ba31-ef545d33c4e5",
   "metadata": {},
   "source": [
    "# Analyze the results\n",
    "\n",
    "The y-axis is the realized volatility over each time frame. The x-axis is time frame we use to compute the realized volatility.\n",
    "\n",
    "There are three conclusions you can draw from this chart:\n",
    "\n",
    "Over the 30-day window, there is a spike in realized volatility. Realized volatility spikes usually correspond to a drop in the stock price. This should tell us to explore the stock price to see what happened.\n",
    "Realized volatility (the dashed line) is close to the lowest it’s been across all time frames. This is a data point to support a case to get long volatility (i.e. options are cheap).\n",
    "Realized volatility is mean reverting. You can see this in the cone shape of the chart. This is a data point to support a case to get long volatility."
   ]
  },
  {
   "cell_type": "code",
   "execution_count": null,
   "id": "209682a5-62a7-4dda-b0ce-8565d5682282",
   "metadata": {},
   "outputs": [],
   "source": []
  }
 ],
 "metadata": {
  "kernelspec": {
   "display_name": "Python [conda env:RGNY] *",
   "language": "python",
   "name": "conda-env-RGNY-py"
  },
  "language_info": {
   "codemirror_mode": {
    "name": "ipython",
    "version": 3
   },
   "file_extension": ".py",
   "mimetype": "text/x-python",
   "name": "python",
   "nbconvert_exporter": "python",
   "pygments_lexer": "ipython3",
   "version": "3.7.11"
  }
 },
 "nbformat": 4,
 "nbformat_minor": 5
}
